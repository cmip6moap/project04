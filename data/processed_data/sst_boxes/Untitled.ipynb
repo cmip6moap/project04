{
 "cells": [
  {
   "cell_type": "code",
   "execution_count": 1,
   "metadata": {},
   "outputs": [],
   "source": [
    "import jCMIP as jc\n",
    "from netCDF4 import Dataset\n",
    "import matplotlib.pyplot as plt\n",
    "import numpy as np\n",
    "import glob\n",
    "from numpy import loadtxt\n",
    "import scipy"
   ]
  },
  {
   "cell_type": "code",
   "execution_count": 2,
   "metadata": {},
   "outputs": [],
   "source": [
    "sg_locs = loadtxt(\"sg_grid.txt\")"
   ]
  },
  {
   "cell_type": "code",
   "execution_count": 3,
   "metadata": {},
   "outputs": [
    {
     "data": {
      "text/plain": [
       "<matplotlib.collections.PathCollection at 0x7f5673039a00>"
      ]
     },
     "execution_count": 3,
     "metadata": {},
     "output_type": "execute_result"
    },
    {
     "data": {
      "image/png": "[encoded data removed]",
      "text/plain": [
       "<Figure size 432x288 with 1 Axes>"
      ]
     },
     "metadata": {
      "needs_background": "light"
     },
     "output_type": "display_data"
    }
   ],
   "source": [
    "plt.scatter(sg_locs[:,1], sg_locs[:,0])"
   ]
  },
  {
   "cell_type": "code",
   "execution_count": 4,
   "metadata": {},
   "outputs": [],
   "source": [
    "from scipy.spatial import Delaunay\n",
    "import numpy as np\n",
    "\n",
    "\n",
    "def alpha_shape(points, alpha, only_outer=True):\n",
    "    \"\"\"\n",
    "    Compute the alpha shape (concave hull) of a set of points.\n",
    "    :param points: np.array of shape (n,2) points.\n",
    "    :param alpha: alpha value.\n",
    "    :param only_outer: boolean value to specify if we keep only the outer border\n",
    "    or also inner edges.\n",
    "    :return: set of (i,j) pairs representing edges of the alpha-shape. (i,j) are\n",
    "    the indices in the points array.\n",
    "    \"\"\"\n",
    "    assert points.shape[0] > 3, \"Need at least four points\"\n",
    "\n",
    "    def add_edge(edges, i, j):\n",
    "        \"\"\"\n",
    "        Add a line between the i-th and j-th points,\n",
    "        if not in the list already\n",
    "        \"\"\"\n",
    "        if (i, j) in edges or (j, i) in edges:\n",
    "            # already added\n",
    "            assert (j, i) in edges, \"Can't go twice over same directed edge right?\"\n",
    "            if only_outer:\n",
    "                # if both neighboring triangles are in shape, it is not a boundary edge\n",
    "                edges.remove((j, i))\n",
    "            return\n",
    "        edges.add((i, j))\n",
    "\n",
    "    tri = Delaunay(points)\n",
    "    edges = set()\n",
    "    # Loop over triangles:\n",
    "    # ia, ib, ic = indices of corner points of the triangle\n",
    "    for ia, ib, ic in tri.simplices:\n",
    "        pa = points[ia]\n",
    "        pb = points[ib]\n",
    "        pc = points[ic]\n",
    "        # Computing radius of triangle circumcircle\n",
    "        # www.mathalino.com/reviewer/derivation-of-formulas/derivation-of-formula-for-radius-of-circumcircle\n",
    "        a = np.sqrt((pa[0] - pb[0]) ** 2 + (pa[1] - pb[1]) ** 2)\n",
    "        b = np.sqrt((pb[0] - pc[0]) ** 2 + (pb[1] - pc[1]) ** 2)\n",
    "        c = np.sqrt((pc[0] - pa[0]) ** 2 + (pc[1] - pa[1]) ** 2)\n",
    "        s = (a + b + c) / 2.0\n",
    "        area = np.sqrt(s * (s - a) * (s - b) * (s - c))\n",
    "        circum_r = a * b * c / (4.0 * area)\n",
    "        if circum_r < alpha:\n",
    "            add_edge(edges, ia, ib)\n",
    "            add_edge(edges, ib, ic)\n",
    "            add_edge(edges, ic, ia)\n",
    "    return edges"
   ]
  },
  {
   "cell_type": "code",
   "execution_count": 12,
   "metadata": {},
   "outputs": [],
   "source": [
    "sg_lines = alpha_shape(sg_locs, 4, only_outer=True)\n",
    "sg_outline = np.reshape(list(sg_lines),[154,1])\n",
    "np.unique(sg_outline)\n",
    "sg_outline_lat = sg_locs[sg_outline,0]\n",
    "sg_outline_lon = sg_locs[sg_outline,1] "
   ]
  },
  {
   "cell_type": "code",
   "execution_count": 20,
   "metadata": {},
   "outputs": [
    {
     "data": {
      "text/plain": [
       "<matplotlib.collections.PathCollection at 0x7f5669dcd160>"
      ]
     },
     "execution_count": 20,
     "metadata": {},
     "output_type": "execute_result"
    },
    {
     "data": {
      "image/png": "[encoded data removed]",
      "text/plain": [
       "<Figure size 432x288 with 1 Axes>"
      ]
     },
     "metadata": {
      "needs_background": "light"
     },
     "output_type": "display_data"
    }
   ],
   "source": [
    "plt.scatter(sg_outline_lon, sg_outline_lat)"
   ]
  },
  {
   "cell_type": "code",
   "execution_count": 46,
   "metadata": {},
   "outputs": [],
   "source": [
    "sg_outline_lon[sg_outline_lat==42.5]\n",
    "lats = np.unique(sg_locs[:,0])\n",
    "\n",
    "#overall boundaries for larger shape, need to get rid of concave area\n",
    "wref_lon=np.zeros(np.shape(lats)[0])\n",
    "eref_lon=np.zeros(np.shape(lats)[0])\n",
    "for i in np.arange(np.shape(lats)[0]):\n",
    "    ref_lat = lats[i]\n",
    "    wref_lon[i] = np.min(sg_locs[sg_locs[:,0]==ref_lat, 1])\n",
    "    eref_lon[i] = np.max(sg_locs[sg_locs[:,0]==ref_lat, 1])\n",
    "    "
   ]
  },
  {
   "cell_type": "code",
   "execution_count": null,
   "metadata": {},
   "outputs": [],
   "source": [
    "# for IPSL model, which has negative longitudes, first set box for sampling\n",
    "idx_sglon = (dataset_area.nav_lon > -64) | (dataset_area.nav_lon < -13)\n",
    "idx_sg = (dataset_area.nav_lat > 42) & (dataset_area.nav_lat < 66) & idx_sglon\n",
    "idx_sg.plot()"
   ]
  },
  {
   "cell_type": "code",
   "execution_count": 49,
   "metadata": {},
   "outputs": [
    {
     "ename": "NameError",
     "evalue": "name 'dataset_area' is not defined",
     "output_type": "error",
     "traceback": [
      "\u001b[0;31m---------------------------------------------------------------------------\u001b[0m",
      "\u001b[0;31mNameError\u001b[0m                                 Traceback (most recent call last)",
      "\u001b[0;32m<ipython-input-49-7087eb8c91ed>\u001b[0m in \u001b[0;36m<module>\u001b[0;34m\u001b[0m\n\u001b[1;32m      1\u001b[0m \u001b[0;31m# for all other models, which have positive longitudes, first set box for sampling\u001b[0m\u001b[0;34m\u001b[0m\u001b[0;34m\u001b[0m\u001b[0;34m\u001b[0m\u001b[0m\n\u001b[0;32m----> 2\u001b[0;31m \u001b[0midx_sglon\u001b[0m \u001b[0;34m=\u001b[0m \u001b[0;34m(\u001b[0m\u001b[0mdataset_area\u001b[0m\u001b[0;34m.\u001b[0m\u001b[0mlongitude\u001b[0m \u001b[0;34m>\u001b[0m \u001b[0;36m296\u001b[0m\u001b[0;34m)\u001b[0m \u001b[0;34m|\u001b[0m \u001b[0;34m(\u001b[0m\u001b[0mdataset_area\u001b[0m\u001b[0;34m.\u001b[0m\u001b[0mlongitude\u001b[0m \u001b[0;34m<\u001b[0m \u001b[0;36m347\u001b[0m\u001b[0;34m)\u001b[0m\u001b[0;34m\u001b[0m\u001b[0;34m\u001b[0m\u001b[0m\n\u001b[0m\u001b[1;32m      3\u001b[0m \u001b[0midx_sg\u001b[0m \u001b[0;34m=\u001b[0m \u001b[0;34m(\u001b[0m\u001b[0mdataset_area\u001b[0m\u001b[0;34m.\u001b[0m\u001b[0mlatitude\u001b[0m \u001b[0;34m>\u001b[0m \u001b[0;36m42\u001b[0m\u001b[0;34m)\u001b[0m \u001b[0;34m&\u001b[0m \u001b[0;34m(\u001b[0m\u001b[0mdataset_area\u001b[0m\u001b[0;34m.\u001b[0m\u001b[0mlatitude\u001b[0m \u001b[0;34m<\u001b[0m \u001b[0;36m66\u001b[0m\u001b[0;34m)\u001b[0m \u001b[0;34m&\u001b[0m \u001b[0midx_sglon\u001b[0m\u001b[0;34m\u001b[0m\u001b[0;34m\u001b[0m\u001b[0m\n\u001b[1;32m      4\u001b[0m \u001b[0midx_sg\u001b[0m\u001b[0;34m.\u001b[0m\u001b[0mplot\u001b[0m\u001b[0;34m(\u001b[0m\u001b[0;34m)\u001b[0m\u001b[0;34m\u001b[0m\u001b[0;34m\u001b[0m\u001b[0m\n",
      "\u001b[0;31mNameError\u001b[0m: name 'dataset_area' is not defined"
     ]
    }
   ],
   "source": [
    "# for all other models, which have positive longitudes, first set box for sampling\n",
    "idx_sglon = (dataset_area.longitude > 296) | (dataset_area.longitude < 347)\n",
    "idx_sg = (dataset_area.latitude > 42) & (dataset_area.latitude < 66) & idx_sglon\n",
    "idx_sg.plot()"
   ]
  },
  {
   "cell_type": "code",
   "execution_count": 35,
   "metadata": {},
   "outputs": [],
   "source": [
    "ref_lat = lats[i]"
   ]
  },
  {
   "cell_type": "code",
   "execution_count": 47,
   "metadata": {},
   "outputs": [
    {
     "data": {
      "text/plain": [
       "<matplotlib.collections.PathCollection at 0x7f5669c87df0>"
      ]
     },
     "execution_count": 47,
     "metadata": {},
     "output_type": "execute_result"
    },
    {
     "data": {
      "image/png": "[encoded data removed]",
      "text/plain": [
       "<Figure size 432x288 with 1 Axes>"
      ]
     },
     "metadata": {
      "needs_background": "light"
     },
     "output_type": "display_data"
    }
   ],
   "source": [
    "plt.scatter(wref_lon, lats)\n",
    "plt.scatter(eref_lon, lats)"
   ]
  },
  {
   "cell_type": "code",
   "execution_count": null,
   "metadata": {},
   "outputs": [],
   "source": []
  }
 ],
 "metadata": {
  "kernelspec": {
   "display_name": "cmip6",
   "language": "python",
   "name": "cmip6"
  },
  "language_info": {
   "codemirror_mode": {
    "name": "ipython",
    "version": 3
   },
   "file_extension": ".py",
   "mimetype": "text/x-python",
   "name": "python",
   "nbconvert_exporter": "python",
   "pygments_lexer": "ipython3",
   "version": "3.8.10"
  }
 },
 "nbformat": 4,
 "nbformat_minor": 4
}
